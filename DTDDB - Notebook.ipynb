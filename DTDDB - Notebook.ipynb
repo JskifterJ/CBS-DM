{
 "cells": [
  {
   "cell_type": "code",
   "execution_count": 1,
   "metadata": {},
   "outputs": [
    {
     "data": {
      "text/plain": [
       "20"
      ]
     },
     "execution_count": 1,
     "metadata": {},
     "output_type": "execute_result"
    }
   ],
   "source": [
    "x = 10 \n",
    "x+x"
   ]
  },
  {
   "cell_type": "code",
   "execution_count": 2,
   "metadata": {},
   "outputs": [
    {
     "data": {
      "text/plain": [
       "1000"
      ]
     },
     "execution_count": 2,
     "metadata": {},
     "output_type": "execute_result"
    }
   ],
   "source": [
    "x**3"
   ]
  },
  {
   "cell_type": "code",
   "execution_count": 6,
   "metadata": {},
   "outputs": [
    {
     "name": "stdout",
     "output_type": "stream",
     "text": [
      "hi\n"
     ]
    }
   ],
   "source": [
    "print('hi')"
   ]
  },
  {
   "cell_type": "code",
   "execution_count": 8,
   "metadata": {},
   "outputs": [
    {
     "ename": "SyntaxError",
     "evalue": "invalid syntax (<ipython-input-8-67977f1d9aa2>, line 1)",
     "output_type": "error",
     "traceback": [
      "\u001b[1;36m  File \u001b[1;32m\"<ipython-input-8-67977f1d9aa2>\"\u001b[1;36m, line \u001b[1;32m1\u001b[0m\n\u001b[1;33m    if: x = 10\u001b[0m\n\u001b[1;37m      ^\u001b[0m\n\u001b[1;31mSyntaxError\u001b[0m\u001b[1;31m:\u001b[0m invalid syntax\n"
     ]
    }
   ],
   "source": [
    "if x = 10\n",
    "print('nice!')"
   ]
  },
  {
   "cell_type": "code",
   "execution_count": null,
   "metadata": {},
   "outputs": [],
   "source": [
    "celsius = int(input('what is the Celcius temperature? '))\n",
    "fahrenheit = (9/5) * celsius + 32\n",
    "print(\"the temperature is\", fahrenheit, \"degrees fahrenheit\")"
   ]
  },
  {
   "cell_type": "code",
   "execution_count": 3,
   "metadata": {},
   "outputs": [
    {
     "name": "stdout",
     "output_type": "stream",
     "text": [
      "15\n"
     ]
    }
   ],
   "source": [
    "fahrenheit = 3 * 5\n",
    "print(fahrenheit)"
   ]
  },
  {
   "cell_type": "code",
   "execution_count": 2,
   "metadata": {},
   "outputs": [
    {
     "name": "stdout",
     "output_type": "stream",
     "text": [
      "JJKing\n"
     ]
    }
   ],
   "source": [
    "myname = 'JJ' + 'King'\n",
    "print(myname)"
   ]
  },
  {
   "cell_type": "code",
   "execution_count": 6,
   "metadata": {},
   "outputs": [
    {
     "name": "stdout",
     "output_type": "stream",
     "text": [
      "x is larger than 10\n"
     ]
    }
   ],
   "source": [
    "x = 12\n",
    "\n",
    "if x <=10:\n",
    "        print(\"x is smaller or equal to 10\")\n",
    "else:\n",
    "        print(\"x is larger than 10\")\n",
    "        "
   ]
  },
  {
   "cell_type": "code",
   "execution_count": 7,
   "metadata": {},
   "outputs": [
    {
     "name": "stdout",
     "output_type": "stream",
     "text": [
      "what is your name?JJ baller\n",
      "your name is, myname\n"
     ]
    }
   ],
   "source": [
    "myname = input(\"what is your name?\")\n",
    "print(\"your name is, myname\")"
   ]
  },
  {
   "cell_type": "code",
   "execution_count": 8,
   "metadata": {},
   "outputs": [
    {
     "name": "stdout",
     "output_type": "stream",
     "text": [
      "number?2\n"
     ]
    }
   ],
   "source": [
    "addingnumbers = int(input(\"number?\"))\n",
    "addingnumbers = addingnumbers + addingnumbers\n",
    "print(addingnumbers)"
   ]
  },
  {
   "cell_type": "code",
   "execution_count": 12,
   "metadata": {},
   "outputs": [
    {
     "name": "stdout",
     "output_type": "stream",
     "text": [
      "is for me :)\n"
     ]
    }
   ],
   "source": [
    "i = 1\n",
    "if  i > 2:\n",
    "    print(\"i is larger than 2\")\n",
    "else:\n",
    "    print(\"is for me :)\")"
   ]
  },
  {
   "cell_type": "code",
   "execution_count": 16,
   "metadata": {},
   "outputs": [
    {
     "name": "stdout",
     "output_type": "stream",
     "text": [
      "your nameJJ\n",
      "mood?feeling fine\n",
      "why are you feeling the way you are?just ate a cookie\n",
      "JJ is feeling feeling fine because he just ate a cookie\n"
     ]
    }
   ],
   "source": [
    "name = input(\"your name\")\n",
    "mood = input(\"mood?\")\n",
    "why = input(\"why are you feeling the way you are?\")\n",
    "print(name, \"is feeling\", mood, \"because he\", why)\n"
   ]
  }
 ],
 "metadata": {
  "kernelspec": {
   "display_name": "Python 3",
   "language": "python",
   "name": "python3"
  },
  "language_info": {
   "codemirror_mode": {
    "name": "ipython",
    "version": 3
   },
   "file_extension": ".py",
   "mimetype": "text/x-python",
   "name": "python",
   "nbconvert_exporter": "python",
   "pygments_lexer": "ipython3",
   "version": "3.8.3"
  }
 },
 "nbformat": 4,
 "nbformat_minor": 4
}
